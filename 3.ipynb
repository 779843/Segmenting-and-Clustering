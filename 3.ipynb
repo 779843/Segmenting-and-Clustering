{
 "cells": [
  {
   "cell_type": "code",
   "execution_count": 2,
   "metadata": {},
   "outputs": [],
   "source": [
    "import pandas as pd\n",
    "import numpy as np\n",
    "import json"
   ]
  },
  {
   "cell_type": "code",
   "execution_count": 3,
   "metadata": {},
   "outputs": [
    {
     "name": "stdout",
     "output_type": "stream",
     "text": [
      "Solving environment: done\n",
      "\n",
      "## Package Plan ##\n",
      "\n",
      "  environment location: /opt/conda/envs/Python36\n",
      "\n",
      "  added / updated specs: \n",
      "    - geopy\n",
      "\n",
      "\n",
      "The following packages will be downloaded:\n",
      "\n",
      "    package                    |            build\n",
      "    ---------------------------|-----------------\n",
      "    geopy-1.20.0               |             py_0          57 KB  conda-forge\n",
      "    ca-certificates-2019.9.11  |       hecc5488_0         144 KB  conda-forge\n",
      "    certifi-2019.9.11          |           py36_0         147 KB  conda-forge\n",
      "    geographiclib-1.49         |             py_0          32 KB  conda-forge\n",
      "    openssl-1.1.1c             |       h516909a_0         2.1 MB  conda-forge\n",
      "    ------------------------------------------------------------\n",
      "                                           Total:         2.5 MB\n",
      "\n",
      "The following NEW packages will be INSTALLED:\n",
      "\n",
      "    geographiclib:   1.49-py_0         conda-forge\n",
      "    geopy:           1.20.0-py_0       conda-forge\n",
      "\n",
      "The following packages will be UPDATED:\n",
      "\n",
      "    ca-certificates: 2019.5.15-1                   --> 2019.9.11-hecc5488_0 conda-forge\n",
      "    certifi:         2019.6.16-py36_1              --> 2019.9.11-py36_0     conda-forge\n",
      "\n",
      "The following packages will be DOWNGRADED:\n",
      "\n",
      "    openssl:         1.1.1c-h7b6447c_1             --> 1.1.1c-h516909a_0    conda-forge\n",
      "\n",
      "\n",
      "Downloading and Extracting Packages\n",
      "geopy-1.20.0         | 57 KB     | ##################################### | 100% \n",
      "ca-certificates-2019 | 144 KB    | ##################################### | 100% \n",
      "certifi-2019.9.11    | 147 KB    | ##################################### | 100% \n",
      "geographiclib-1.49   | 32 KB     | ##################################### | 100% \n",
      "openssl-1.1.1c       | 2.1 MB    | ##################################### | 100% \n",
      "Preparing transaction: done\n",
      "Verifying transaction: done\n",
      "Executing transaction: done\n"
     ]
    }
   ],
   "source": [
    "!conda install -c conda-forge geopy --yes"
   ]
  },
  {
   "cell_type": "code",
   "execution_count": 4,
   "metadata": {},
   "outputs": [],
   "source": [
    "from geopy.geocoders import Nominatim\n",
    "import requests\n",
    "from pandas.io.json import json_normalize\n",
    "import matplotlib.cm as cm\n",
    "import matplotlib.colors as colors\n",
    "from sklearn.cluster import KMeans"
   ]
  },
  {
   "cell_type": "code",
   "execution_count": 5,
   "metadata": {},
   "outputs": [
    {
     "name": "stdout",
     "output_type": "stream",
     "text": [
      "Solving environment: done\n",
      "\n",
      "## Package Plan ##\n",
      "\n",
      "  environment location: /opt/conda/envs/Python36\n",
      "\n",
      "  added / updated specs: \n",
      "    - folium=0.5.0\n",
      "\n",
      "\n",
      "The following packages will be downloaded:\n",
      "\n",
      "    package                    |            build\n",
      "    ---------------------------|-----------------\n",
      "    folium-0.5.0               |             py_0          45 KB  conda-forge\n",
      "    vincent-0.4.4              |             py_1          28 KB  conda-forge\n",
      "    branca-0.3.1               |             py_0          25 KB  conda-forge\n",
      "    altair-3.2.0               |           py36_0         770 KB  conda-forge\n",
      "    ------------------------------------------------------------\n",
      "                                           Total:         868 KB\n",
      "\n",
      "The following NEW packages will be INSTALLED:\n",
      "\n",
      "    altair:  3.2.0-py36_0 conda-forge\n",
      "    branca:  0.3.1-py_0   conda-forge\n",
      "    folium:  0.5.0-py_0   conda-forge\n",
      "    vincent: 0.4.4-py_1   conda-forge\n",
      "\n",
      "\n",
      "Downloading and Extracting Packages\n",
      "folium-0.5.0         | 45 KB     | ##################################### | 100% \n",
      "vincent-0.4.4        | 28 KB     | ##################################### | 100% \n",
      "branca-0.3.1         | 25 KB     | ##################################### | 100% \n",
      "altair-3.2.0         | 770 KB    | ##################################### | 100% \n",
      "Preparing transaction: done\n",
      "Verifying transaction: done\n",
      "Executing transaction: done\n"
     ]
    }
   ],
   "source": [
    "!conda install -c conda-forge folium=0.5.0 --yes"
   ]
  },
  {
   "cell_type": "code",
   "execution_count": 6,
   "metadata": {},
   "outputs": [
    {
     "name": "stdout",
     "output_type": "stream",
     "text": [
      "Libraries imported.\n"
     ]
    }
   ],
   "source": [
    "mport folium\n",
    "print('Libraries imported.')"
   ]
  },
  {
   "cell_type": "code",
   "execution_count": 11,
   "metadata": {},
   "outputs": [],
   "source": [
    "from bs4 import BeautifulSoup"
   ]
  },
  {
   "cell_type": "code",
   "execution_count": 26,
   "metadata": {},
   "outputs": [],
   "source": [
    "wikiresults = requests.get('https://en.wikipedia.org/wiki/List_of_postal_codes_of_Canada:_M').text\n",
    "soup = BeautifulSoup(wikiresults,'lxml')"
   ]
  },
  {
   "cell_type": "code",
   "execution_count": 27,
   "metadata": {},
   "outputs": [],
   "source": [
    "table = soup.find( 'table', {'class':'wikitable sortable'})"
   ]
  },
  {
   "cell_type": "code",
   "execution_count": 28,
   "metadata": {},
   "outputs": [
    {
     "name": "stdout",
     "output_type": "stream",
     "text": [
      "['Postcode', 'Borough', 'Neighbourhood']\n"
     ]
    }
   ],
   "source": [
    "rows= table.find_all('tr') \n",
    "column_names= [v.text.replace('\\n', '') for v in rows[0].find_all('th')]  \n",
    "print(column_names)"
   ]
  },
  {
   "cell_type": "code",
   "execution_count": 29,
   "metadata": {},
   "outputs": [],
   "source": [
    "tabledata = soup.find('table')\n",
    "colvals = tabledata.find_all('td')    #td=table data\n",
    "elem_cnt = len(colvals)\n",
    "postcode = []\n",
    "borough = []\n",
    "neighborhood = []\n",
    "\n",
    "for i in range(0, elem_cnt, 3):\n",
    "        postcode.append(colvals[i].text.strip())\n",
    "        borough.append(colvals[i+1].text.strip())\n",
    "        neighborhood.append(colvals[i+2].text.strip())"
   ]
  },
  {
   "cell_type": "code",
   "execution_count": 30,
   "metadata": {},
   "outputs": [
    {
     "data": {
      "text/html": [
       "<div>\n",
       "<style scoped>\n",
       "    .dataframe tbody tr th:only-of-type {\n",
       "        vertical-align: middle;\n",
       "    }\n",
       "\n",
       "    .dataframe tbody tr th {\n",
       "        vertical-align: top;\n",
       "    }\n",
       "\n",
       "    .dataframe thead th {\n",
       "        text-align: right;\n",
       "    }\n",
       "</style>\n",
       "<table border=\"1\" class=\"dataframe\">\n",
       "  <thead>\n",
       "    <tr style=\"text-align: right;\">\n",
       "      <th></th>\n",
       "      <th>Postcode</th>\n",
       "      <th>Borough</th>\n",
       "      <th>Neighborhood</th>\n",
       "    </tr>\n",
       "  </thead>\n",
       "  <tbody>\n",
       "    <tr>\n",
       "      <th>0</th>\n",
       "      <td>M1A</td>\n",
       "      <td>Not assigned</td>\n",
       "      <td>Not assigned</td>\n",
       "    </tr>\n",
       "    <tr>\n",
       "      <th>1</th>\n",
       "      <td>M2A</td>\n",
       "      <td>Not assigned</td>\n",
       "      <td>Not assigned</td>\n",
       "    </tr>\n",
       "    <tr>\n",
       "      <th>2</th>\n",
       "      <td>M3A</td>\n",
       "      <td>North York</td>\n",
       "      <td>Parkwoods</td>\n",
       "    </tr>\n",
       "    <tr>\n",
       "      <th>3</th>\n",
       "      <td>M4A</td>\n",
       "      <td>North York</td>\n",
       "      <td>Victoria Village</td>\n",
       "    </tr>\n",
       "    <tr>\n",
       "      <th>4</th>\n",
       "      <td>M5A</td>\n",
       "      <td>Downtown Toronto</td>\n",
       "      <td>Harbourfront</td>\n",
       "    </tr>\n",
       "  </tbody>\n",
       "</table>\n",
       "</div>"
      ],
      "text/plain": [
       "  Postcode           Borough      Neighborhood\n",
       "0      M1A      Not assigned      Not assigned\n",
       "1      M2A      Not assigned      Not assigned\n",
       "2      M3A        North York         Parkwoods\n",
       "3      M4A        North York  Victoria Village\n",
       "4      M5A  Downtown Toronto      Harbourfront"
      ]
     },
     "execution_count": 30,
     "metadata": {},
     "output_type": "execute_result"
    }
   ],
   "source": [
    "df = pd.DataFrame(data=[postcode, borough, neighborhood]).transpose()\n",
    "df.columns = ['Postcode', 'Borough', 'Neighborhood']\n",
    "df.head()"
   ]
  },
  {
   "cell_type": "code",
   "execution_count": 31,
   "metadata": {},
   "outputs": [
    {
     "data": {
      "text/html": [
       "<div>\n",
       "<style scoped>\n",
       "    .dataframe tbody tr th:only-of-type {\n",
       "        vertical-align: middle;\n",
       "    }\n",
       "\n",
       "    .dataframe tbody tr th {\n",
       "        vertical-align: top;\n",
       "    }\n",
       "\n",
       "    .dataframe thead th {\n",
       "        text-align: right;\n",
       "    }\n",
       "</style>\n",
       "<table border=\"1\" class=\"dataframe\">\n",
       "  <thead>\n",
       "    <tr style=\"text-align: right;\">\n",
       "      <th></th>\n",
       "      <th>Postcode</th>\n",
       "      <th>Borough</th>\n",
       "      <th>Neighborhood</th>\n",
       "    </tr>\n",
       "  </thead>\n",
       "  <tbody>\n",
       "    <tr>\n",
       "      <th>0</th>\n",
       "      <td>M1B</td>\n",
       "      <td>Scarborough</td>\n",
       "      <td>Rouge, Malvern</td>\n",
       "    </tr>\n",
       "    <tr>\n",
       "      <th>1</th>\n",
       "      <td>M1C</td>\n",
       "      <td>Scarborough</td>\n",
       "      <td>Highland Creek, Rouge Hill, Port Union</td>\n",
       "    </tr>\n",
       "    <tr>\n",
       "      <th>2</th>\n",
       "      <td>M1E</td>\n",
       "      <td>Scarborough</td>\n",
       "      <td>Guildwood, Morningside, West Hill</td>\n",
       "    </tr>\n",
       "    <tr>\n",
       "      <th>3</th>\n",
       "      <td>M1G</td>\n",
       "      <td>Scarborough</td>\n",
       "      <td>Woburn</td>\n",
       "    </tr>\n",
       "    <tr>\n",
       "      <th>4</th>\n",
       "      <td>M1H</td>\n",
       "      <td>Scarborough</td>\n",
       "      <td>Cedarbrae</td>\n",
       "    </tr>\n",
       "  </tbody>\n",
       "</table>\n",
       "</div>"
      ],
      "text/plain": [
       "  Postcode      Borough                            Neighborhood\n",
       "0      M1B  Scarborough                          Rouge, Malvern\n",
       "1      M1C  Scarborough  Highland Creek, Rouge Hill, Port Union\n",
       "2      M1E  Scarborough       Guildwood, Morningside, West Hill\n",
       "3      M1G  Scarborough                                  Woburn\n",
       "4      M1H  Scarborough                               Cedarbrae"
      ]
     },
     "execution_count": 31,
     "metadata": {},
     "output_type": "execute_result"
    }
   ],
   "source": [
    "df.drop(df[df['Borough'] == 'Not assigned'].index, inplace=True)\n",
    "df.loc[df.Neighborhood == 'Not assigned', \"Neighborhood\"] = df.Borough\n",
    "df_grouped = df.groupby(['Postcode', 'Borough'])['Neighborhood'].apply(', '.join).reset_index()\n",
    "df_grouped.columns = ['Postcode', 'Borough', 'Neighborhood']\n",
    "df_grouped.head()"
   ]
  },
  {
   "cell_type": "code",
   "execution_count": 32,
   "metadata": {},
   "outputs": [
    {
     "data": {
      "text/plain": [
       "(103, 3)"
      ]
     },
     "execution_count": 32,
     "metadata": {},
     "output_type": "execute_result"
    }
   ],
   "source": [
    "df_grouped.shape"
   ]
  },
  {
   "cell_type": "code",
   "execution_count": 33,
   "metadata": {},
   "outputs": [
    {
     "data": {
      "text/html": [
       "<div>\n",
       "<style scoped>\n",
       "    .dataframe tbody tr th:only-of-type {\n",
       "        vertical-align: middle;\n",
       "    }\n",
       "\n",
       "    .dataframe tbody tr th {\n",
       "        vertical-align: top;\n",
       "    }\n",
       "\n",
       "    .dataframe thead th {\n",
       "        text-align: right;\n",
       "    }\n",
       "</style>\n",
       "<table border=\"1\" class=\"dataframe\">\n",
       "  <thead>\n",
       "    <tr style=\"text-align: right;\">\n",
       "      <th></th>\n",
       "      <th>Postal Code</th>\n",
       "      <th>Latitude</th>\n",
       "      <th>Longitude</th>\n",
       "    </tr>\n",
       "  </thead>\n",
       "  <tbody>\n",
       "    <tr>\n",
       "      <th>0</th>\n",
       "      <td>M1B</td>\n",
       "      <td>43.806686</td>\n",
       "      <td>-79.194353</td>\n",
       "    </tr>\n",
       "    <tr>\n",
       "      <th>1</th>\n",
       "      <td>M1C</td>\n",
       "      <td>43.784535</td>\n",
       "      <td>-79.160497</td>\n",
       "    </tr>\n",
       "    <tr>\n",
       "      <th>2</th>\n",
       "      <td>M1E</td>\n",
       "      <td>43.763573</td>\n",
       "      <td>-79.188711</td>\n",
       "    </tr>\n",
       "    <tr>\n",
       "      <th>3</th>\n",
       "      <td>M1G</td>\n",
       "      <td>43.770992</td>\n",
       "      <td>-79.216917</td>\n",
       "    </tr>\n",
       "    <tr>\n",
       "      <th>4</th>\n",
       "      <td>M1H</td>\n",
       "      <td>43.773136</td>\n",
       "      <td>-79.239476</td>\n",
       "    </tr>\n",
       "  </tbody>\n",
       "</table>\n",
       "</div>"
      ],
      "text/plain": [
       "  Postal Code   Latitude  Longitude\n",
       "0         M1B  43.806686 -79.194353\n",
       "1         M1C  43.784535 -79.160497\n",
       "2         M1E  43.763573 -79.188711\n",
       "3         M1G  43.770992 -79.216917\n",
       "4         M1H  43.773136 -79.239476"
      ]
     },
     "execution_count": 33,
     "metadata": {},
     "output_type": "execute_result"
    }
   ],
   "source": [
    "df2 = pd.read_csv('http://cocl.us/Geospatial_data')\n",
    "df2.head()"
   ]
  },
  {
   "cell_type": "code",
   "execution_count": 34,
   "metadata": {},
   "outputs": [
    {
     "data": {
      "text/html": [
       "<div>\n",
       "<style scoped>\n",
       "    .dataframe tbody tr th:only-of-type {\n",
       "        vertical-align: middle;\n",
       "    }\n",
       "\n",
       "    .dataframe tbody tr th {\n",
       "        vertical-align: top;\n",
       "    }\n",
       "\n",
       "    .dataframe thead th {\n",
       "        text-align: right;\n",
       "    }\n",
       "</style>\n",
       "<table border=\"1\" class=\"dataframe\">\n",
       "  <thead>\n",
       "    <tr style=\"text-align: right;\">\n",
       "      <th></th>\n",
       "      <th>Postcode</th>\n",
       "      <th>Borough</th>\n",
       "      <th>Neighborhood</th>\n",
       "      <th>Latitude</th>\n",
       "      <th>Longitude</th>\n",
       "    </tr>\n",
       "  </thead>\n",
       "  <tbody>\n",
       "    <tr>\n",
       "      <th>0</th>\n",
       "      <td>M1B</td>\n",
       "      <td>Scarborough</td>\n",
       "      <td>Rouge, Malvern</td>\n",
       "      <td>43.806686</td>\n",
       "      <td>-79.194353</td>\n",
       "    </tr>\n",
       "    <tr>\n",
       "      <th>1</th>\n",
       "      <td>M1C</td>\n",
       "      <td>Scarborough</td>\n",
       "      <td>Highland Creek, Rouge Hill, Port Union</td>\n",
       "      <td>43.784535</td>\n",
       "      <td>-79.160497</td>\n",
       "    </tr>\n",
       "    <tr>\n",
       "      <th>2</th>\n",
       "      <td>M1E</td>\n",
       "      <td>Scarborough</td>\n",
       "      <td>Guildwood, Morningside, West Hill</td>\n",
       "      <td>43.763573</td>\n",
       "      <td>-79.188711</td>\n",
       "    </tr>\n",
       "    <tr>\n",
       "      <th>3</th>\n",
       "      <td>M1G</td>\n",
       "      <td>Scarborough</td>\n",
       "      <td>Woburn</td>\n",
       "      <td>43.770992</td>\n",
       "      <td>-79.216917</td>\n",
       "    </tr>\n",
       "    <tr>\n",
       "      <th>4</th>\n",
       "      <td>M1H</td>\n",
       "      <td>Scarborough</td>\n",
       "      <td>Cedarbrae</td>\n",
       "      <td>43.773136</td>\n",
       "      <td>-79.239476</td>\n",
       "    </tr>\n",
       "    <tr>\n",
       "      <th>5</th>\n",
       "      <td>M1J</td>\n",
       "      <td>Scarborough</td>\n",
       "      <td>Scarborough Village</td>\n",
       "      <td>43.744734</td>\n",
       "      <td>-79.239476</td>\n",
       "    </tr>\n",
       "    <tr>\n",
       "      <th>6</th>\n",
       "      <td>M1K</td>\n",
       "      <td>Scarborough</td>\n",
       "      <td>East Birchmount Park, Ionview, Kennedy Park</td>\n",
       "      <td>43.727929</td>\n",
       "      <td>-79.262029</td>\n",
       "    </tr>\n",
       "    <tr>\n",
       "      <th>7</th>\n",
       "      <td>M1L</td>\n",
       "      <td>Scarborough</td>\n",
       "      <td>Clairlea, Golden Mile, Oakridge</td>\n",
       "      <td>43.711112</td>\n",
       "      <td>-79.284577</td>\n",
       "    </tr>\n",
       "    <tr>\n",
       "      <th>8</th>\n",
       "      <td>M1M</td>\n",
       "      <td>Scarborough</td>\n",
       "      <td>Cliffcrest, Cliffside, Scarborough Village West</td>\n",
       "      <td>43.716316</td>\n",
       "      <td>-79.239476</td>\n",
       "    </tr>\n",
       "    <tr>\n",
       "      <th>9</th>\n",
       "      <td>M1N</td>\n",
       "      <td>Scarborough</td>\n",
       "      <td>Birch Cliff, Cliffside West</td>\n",
       "      <td>43.692657</td>\n",
       "      <td>-79.264848</td>\n",
       "    </tr>\n",
       "    <tr>\n",
       "      <th>10</th>\n",
       "      <td>M1P</td>\n",
       "      <td>Scarborough</td>\n",
       "      <td>Dorset Park, Scarborough Town Centre, Wexford ...</td>\n",
       "      <td>43.757410</td>\n",
       "      <td>-79.273304</td>\n",
       "    </tr>\n",
       "    <tr>\n",
       "      <th>11</th>\n",
       "      <td>M1R</td>\n",
       "      <td>Scarborough</td>\n",
       "      <td>Maryvale, Wexford</td>\n",
       "      <td>43.750072</td>\n",
       "      <td>-79.295849</td>\n",
       "    </tr>\n",
       "  </tbody>\n",
       "</table>\n",
       "</div>"
      ],
      "text/plain": [
       "   Postcode      Borough                                       Neighborhood  \\\n",
       "0       M1B  Scarborough                                     Rouge, Malvern   \n",
       "1       M1C  Scarborough             Highland Creek, Rouge Hill, Port Union   \n",
       "2       M1E  Scarborough                  Guildwood, Morningside, West Hill   \n",
       "3       M1G  Scarborough                                             Woburn   \n",
       "4       M1H  Scarborough                                          Cedarbrae   \n",
       "5       M1J  Scarborough                                Scarborough Village   \n",
       "6       M1K  Scarborough        East Birchmount Park, Ionview, Kennedy Park   \n",
       "7       M1L  Scarborough                    Clairlea, Golden Mile, Oakridge   \n",
       "8       M1M  Scarborough    Cliffcrest, Cliffside, Scarborough Village West   \n",
       "9       M1N  Scarborough                        Birch Cliff, Cliffside West   \n",
       "10      M1P  Scarborough  Dorset Park, Scarborough Town Centre, Wexford ...   \n",
       "11      M1R  Scarborough                                  Maryvale, Wexford   \n",
       "\n",
       "     Latitude  Longitude  \n",
       "0   43.806686 -79.194353  \n",
       "1   43.784535 -79.160497  \n",
       "2   43.763573 -79.188711  \n",
       "3   43.770992 -79.216917  \n",
       "4   43.773136 -79.239476  \n",
       "5   43.744734 -79.239476  \n",
       "6   43.727929 -79.262029  \n",
       "7   43.711112 -79.284577  \n",
       "8   43.716316 -79.239476  \n",
       "9   43.692657 -79.264848  \n",
       "10  43.757410 -79.273304  \n",
       "11  43.750072 -79.295849  "
      ]
     },
     "execution_count": 34,
     "metadata": {},
     "output_type": "execute_result"
    }
   ],
   "source": [
    "df2.columns = ['Postcode', 'Latitude', 'Longitude']  \n",
    "dfcombined = pd.merge(df_grouped, df2, on=['Postcode'], how='inner')  ##Merging the two dataframes\n",
    "dfcombined.shape\n",
    "dfcombined.head(12)"
   ]
  },
  {
   "cell_type": "code",
   "execution_count": 35,
   "metadata": {},
   "outputs": [
    {
     "data": {
      "text/html": [
       "<div>\n",
       "<style scoped>\n",
       "    .dataframe tbody tr th:only-of-type {\n",
       "        vertical-align: middle;\n",
       "    }\n",
       "\n",
       "    .dataframe tbody tr th {\n",
       "        vertical-align: top;\n",
       "    }\n",
       "\n",
       "    .dataframe thead th {\n",
       "        text-align: right;\n",
       "    }\n",
       "</style>\n",
       "<table border=\"1\" class=\"dataframe\">\n",
       "  <thead>\n",
       "    <tr style=\"text-align: right;\">\n",
       "      <th></th>\n",
       "      <th>Borough</th>\n",
       "      <th>Neighborhood</th>\n",
       "      <th>Latitude</th>\n",
       "      <th>Longitude</th>\n",
       "    </tr>\n",
       "  </thead>\n",
       "  <tbody>\n",
       "    <tr>\n",
       "      <th>0</th>\n",
       "      <td>Scarborough</td>\n",
       "      <td>Rouge, Malvern</td>\n",
       "      <td>43.806686</td>\n",
       "      <td>-79.194353</td>\n",
       "    </tr>\n",
       "    <tr>\n",
       "      <th>1</th>\n",
       "      <td>Scarborough</td>\n",
       "      <td>Highland Creek, Rouge Hill, Port Union</td>\n",
       "      <td>43.784535</td>\n",
       "      <td>-79.160497</td>\n",
       "    </tr>\n",
       "    <tr>\n",
       "      <th>2</th>\n",
       "      <td>Scarborough</td>\n",
       "      <td>Guildwood, Morningside, West Hill</td>\n",
       "      <td>43.763573</td>\n",
       "      <td>-79.188711</td>\n",
       "    </tr>\n",
       "    <tr>\n",
       "      <th>3</th>\n",
       "      <td>Scarborough</td>\n",
       "      <td>Woburn</td>\n",
       "      <td>43.770992</td>\n",
       "      <td>-79.216917</td>\n",
       "    </tr>\n",
       "    <tr>\n",
       "      <th>4</th>\n",
       "      <td>Scarborough</td>\n",
       "      <td>Cedarbrae</td>\n",
       "      <td>43.773136</td>\n",
       "      <td>-79.239476</td>\n",
       "    </tr>\n",
       "  </tbody>\n",
       "</table>\n",
       "</div>"
      ],
      "text/plain": [
       "       Borough                            Neighborhood   Latitude  Longitude\n",
       "0  Scarborough                          Rouge, Malvern  43.806686 -79.194353\n",
       "1  Scarborough  Highland Creek, Rouge Hill, Port Union  43.784535 -79.160497\n",
       "2  Scarborough       Guildwood, Morningside, West Hill  43.763573 -79.188711\n",
       "3  Scarborough                                  Woburn  43.770992 -79.216917\n",
       "4  Scarborough                               Cedarbrae  43.773136 -79.239476"
      ]
     },
     "execution_count": 35,
     "metadata": {},
     "output_type": "execute_result"
    }
   ],
   "source": [
    "neighborhoods = dfcombined[['Borough', 'Neighborhood', 'Latitude', 'Longitude']]\n",
    "neighborhoods.head()"
   ]
  },
  {
   "cell_type": "code",
   "execution_count": 36,
   "metadata": {},
   "outputs": [
    {
     "name": "stdout",
     "output_type": "stream",
     "text": [
      "The dataframe has 11 boroughs and 103 neighborhoods.\n"
     ]
    }
   ],
   "source": [
    "print('The dataframe has {} boroughs and {} neighborhoods.'.format(\n",
    "        len(neighborhoods['Borough'].unique()),\n",
    "        neighborhoods.shape[0]\n",
    "    )\n",
    ")"
   ]
  },
  {
   "cell_type": "code",
   "execution_count": 37,
   "metadata": {},
   "outputs": [
    {
     "data": {
      "text/plain": [
       "array(['Scarborough', 'North York', 'East York', 'East Toronto',\n",
       "       'Central Toronto', 'Downtown Toronto', 'York', 'West Toronto',\n",
       "       \"Queen's Park\", 'Mississauga', 'Etobicoke'], dtype=object)"
      ]
     },
     "execution_count": 37,
     "metadata": {},
     "output_type": "execute_result"
    }
   ],
   "source": [
    "neighborhoods['Borough'].unique()"
   ]
  },
  {
   "cell_type": "code",
   "execution_count": 38,
   "metadata": {},
   "outputs": [
    {
     "name": "stdout",
     "output_type": "stream",
     "text": [
      "The geograpical coordinates of Toronto are 43.653963, -79.387207.\n"
     ]
    }
   ],
   "source": [
    "address = 'Toronto, Canada'\n",
    "geolocator = Nominatim(user_agent=\"toronto_explorer\")\n",
    "location = geolocator.geocode(address)\n",
    "latitude = location.latitude\n",
    "longitude = location.longitude\n",
    "print('The geograpical coordinates of Toronto are {}, {}.'.format(latitude, longitude))"
   ]
  },
  {
   "cell_type": "code",
   "execution_count": 39,
   "metadata": {},
   "outputs": [
    {
     "data": {
      "text/html": [
       "<div style=\"width:100%;\"><div style=\"position:relative;width:100%;height:0;padding-bottom:60%;\"><iframe src=\"data:text/html;charset=utf-8;base64,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\" style=\"position:absolute;width:100%;height:100%;left:0;top:0;border:none !important;\" allowfullscreen webkitallowfullscreen mozallowfullscreen></iframe></div></div>"
      ],
      "text/plain": [
       "<folium.folium.Map at 0x7f0b1e4d3cf8>"
      ]
     },
     "execution_count": 39,
     "metadata": {},
     "output_type": "execute_result"
    }
   ],
   "source": [
    "map_toronto = folium.Map(location=[latitude, longitude], zoom_start=11)\n",
    "\n",
    "# add markers to map\n",
    "for lat, lng, label in zip(dfcombined['Latitude'], dfcombined['Longitude'], dfcombined['Neighborhood']):\n",
    "    label = folium.Popup(label, parse_html=True)\n",
    "    folium.CircleMarker(\n",
    "        [lat, lng],\n",
    "        radius=5,\n",
    "        popup=label,\n",
    "        color='blue',\n",
    "        fill=True,\n",
    "        fill_color='#3186cc',\n",
    "        fill_opacity=0.7,\n",
    "        parse_html=False).add_to(map_toronto)  \n",
    "    \n",
    "map_toronto"
   ]
  },
  {
   "cell_type": "code",
   "execution_count": null,
   "metadata": {},
   "outputs": [],
   "source": []
  }
 ],
 "metadata": {
  "kernelspec": {
   "display_name": "Python 3.6",
   "language": "python",
   "name": "python3"
  },
  "language_info": {
   "codemirror_mode": {
    "name": "ipython",
    "version": 3
   },
   "file_extension": ".py",
   "mimetype": "text/x-python",
   "name": "python",
   "nbconvert_exporter": "python",
   "pygments_lexer": "ipython3",
   "version": "3.6.8"
  }
 },
 "nbformat": 4,
 "nbformat_minor": 1
}
